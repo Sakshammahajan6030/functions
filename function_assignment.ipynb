{
  "nbformat": 4,
  "nbformat_minor": 0,
  "metadata": {
    "colab": {
      "provenance": []
    },
    "kernelspec": {
      "name": "python3",
      "display_name": "Python 3"
    },
    "language_info": {
      "name": "python"
    }
  },
  "cells": [
    {
      "cell_type": "code",
      "execution_count": null,
      "metadata": {
        "id": "BNWrEfdlDQ-M"
      },
      "outputs": [],
      "source": [
        "# What is the difference between a function and a method in Python?\n",
        "\n",
        "\n",
        "# method is a function that is associated with an object. It is defined within a\n",
        "#class and operates on the data contained within that class. Methods are called on objects and implicitly pass the object itself as the first argument, typically named self.\n",
        "\n",
        "\n",
        "#Function is block of code that is also called by its name.\n",
        "#The function can have different parameters or may not have any at all. If any data are passed, they are passed explicitly.\n",
        "#It may or may not return any data.\n"
      ]
    },
    {
      "cell_type": "code",
      "source": [
        "# Explain the concept of function arguments and parameters in Python\n",
        "\n",
        "\n",
        "#In computer programming, an argument is a value that is accepted by a function.\n",
        "#Before we learn about function arguments, make sure to know about Python Functions.\n",
        "\n",
        "\n",
        "#Parameters are the names used in a function definition that are placeholders\n",
        "#for values that will be passed to the function when it is called."
      ],
      "metadata": {
        "id": "yvkPEPyGRglE"
      },
      "execution_count": null,
      "outputs": []
    },
    {
      "cell_type": "code",
      "source": [
        "#What are the different ways to define and call a function in Python?\n",
        "\n",
        "#Use the keyword def to declare the function and follow it with the function name and parentheses.\n",
        "#Add parameters to the function within the parentheses if needed, and end the line with a colon.\n",
        "#Add statements that the function should execute, indented under the function header.\n",
        "#End the function with a return statement if the function should output something.\n",
        "#To call the function, write the name of the function followed by parentheses, and pass any arguments if needed."
      ],
      "metadata": {
        "id": "1d91GIrUW0s0"
      },
      "execution_count": null,
      "outputs": []
    },
    {
      "cell_type": "code",
      "source": [
        "#What is the purpose of the `return` statement in a Python function?\n",
        "\n",
        "\n",
        "#A return statement is used to end the execution of the function call and “returns”\n",
        "#the result (value of the expression following the return keyword) to the caller. The statements after the return statements are not executed."
      ],
      "metadata": {
        "id": "2JDOpiRMXtZY"
      },
      "execution_count": null,
      "outputs": []
    },
    {
      "cell_type": "code",
      "source": [
        "# What are iterators in Python and how do they differ from iterables?\n",
        "\n",
        "\n",
        "#An iterator in Python is an object that represents a stream of data. It is responsible\n",
        "#for returning elements from a collection one at a time. An iterator must implement two methods to conform to the iterator protocol\n",
        "\n",
        "\n",
        "\n",
        "#An iterable is any Python object you can get an iterator from. Iterables are data structures that hold elements you can iterate over, like lists, tuples, dictionaries, and sets\n",
        "#They implement the .__iter__() method that returns an iterator, which then allows you to use the for loop or other iteration mechanisms."
      ],
      "metadata": {
        "id": "0zjLAb-zYgfb"
      },
      "execution_count": null,
      "outputs": []
    },
    {
      "cell_type": "code",
      "source": [
        "# Explain the concept of generators in Python and how they are defined.\n",
        "\n",
        "\n",
        "\n",
        "#Generators in Python are a simple way to create iterators using a function,\n",
        "#which is capable of yielding multiple times in its execution, producing a sequence of results instead of a single value."
      ],
      "metadata": {
        "id": "AdqoGEFkdkDZ"
      },
      "execution_count": 1,
      "outputs": []
    },
    {
      "cell_type": "code",
      "source": [
        "#What are the advantages of using generators over regular functions\n",
        "\n",
        "\n",
        "\n",
        "#Benefits of using generator functions include improved performance efficiency,\n",
        "#better memory management, and the ability to handle large and infinite data sets."
      ],
      "metadata": {
        "id": "HYFaybfChR8N"
      },
      "execution_count": null,
      "outputs": []
    },
    {
      "cell_type": "code",
      "source": [
        "# What is a lambda function in Python and when is it typically used\n",
        "\n",
        "\n",
        "#Lambda functions, also known as anonymous functions, are a feature in Python that\n",
        "#allows the creation of small, one-expression functions without a name.\n",
        "#they are defined using the lambda keyword, which is why they are often referred to as \"lambda functions\"."
      ],
      "metadata": {
        "id": "Zx4351EAjCsR"
      },
      "execution_count": null,
      "outputs": []
    },
    {
      "cell_type": "code",
      "source": [
        "#Explain the purpose and usage of the `map()` function in Python.\n",
        "\n",
        "\n",
        "#he map function in Python is a powerful tool that allows you to apply a function to every item in an iterable, such as a list or tuple, and returns a map object."
      ],
      "metadata": {
        "id": "klN88E_7n_F4"
      },
      "execution_count": null,
      "outputs": []
    },
    {
      "cell_type": "code",
      "source": [
        "#What is the difference between `map()`, `reduce()`, and `filter()` functions in Python?\n",
        "\n",
        "\n",
        "\n",
        "#map()`: Transforms every element in a list using a given function.\n",
        "#filter()`: Selects elements from a list based on specified conditions.\n",
        "#reduce()`: Reduces all elements in a list to a single value using a specified function"
      ],
      "metadata": {
        "id": "cgjZ3mB7pBiF"
      },
      "execution_count": 3,
      "outputs": []
    },
    {
      "cell_type": "code",
      "source": [],
      "metadata": {
        "id": "5vIbFfxHqVod"
      },
      "execution_count": null,
      "outputs": []
    }
  ]
}